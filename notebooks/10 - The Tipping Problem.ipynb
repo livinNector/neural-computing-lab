{
 "cells": [
  {
   "cell_type": "markdown",
   "id": "531acbc5-baa7-4a70-9452-09a1a0ded1fc",
   "metadata": {
    "tags": []
   },
   "source": [
    "# Exercise 10 - The Tipping Problem"
   ]
  },
  {
   "cell_type": "markdown",
   "id": "de4e6ef5-7eab-445d-b21e-4baf43e5ebe7",
   "metadata": {},
   "source": [
    "#### Aim:\n",
    "To develop a fuzzy controller for the Tipping problem using python."
   ]
  },
  {
   "cell_type": "markdown",
   "id": "c3cdd91d-297c-444f-9a2b-3e422a3cc5ed",
   "metadata": {},
   "source": [
    "#### The Tipping Problem\n",
    "\n",
    "\n",
    "A fuzzy control system is created to model how you might choose to tip\n",
    "at a restaurant.  When tipping, the service and food quality are considered and rated between 0 and 10.  A tip of between 0 and 25% is suggested."
   ]
  },
  {
   "cell_type": "markdown",
   "id": "2cd2fd79-8997-495c-98ee-32864047e462",
   "metadata": {},
   "source": [
    "#### Problem Formulation:\n",
    "\n",
    "* Antecednets (Inputs)\n",
    "   - `service`\n",
    "      * Universe (ie, crisp value range): How good was the service of the wait\n",
    "        staff, on a scale of 0 to 10?\n",
    "      * Fuzzy set (ie, fuzzy value range): poor, acceptable, amazing\n",
    "   - `food quality`\n",
    "      * Universe: How tasty was the food, on a scale of 0 to 10?\n",
    "      * Fuzzy set: bad, decent, great\n",
    "* Consequents (Outputs)\n",
    "   - `tip`\n",
    "      * Universe: How much should we tip, on a scale of 0% to 25%\n",
    "      * Fuzzy set: low, medium, high\n",
    "* Rules\n",
    "   - IF the *service* was good  *or* the *food quality* was good,\n",
    "     THEN the tip will be high.\n",
    "   - IF the *service* was average, THEN the tip will be medium.\n",
    "   - IF the *service* was poor *and* the *food quality* was poor\n",
    "     THEN the tip will be low.\n",
    "* Usage\n",
    "   - If I tell this controller that I rated:\n",
    "      * the service as 9.8, and\n",
    "      * the quality as 6.5,\n",
    "   - it would recommend I leave:\n",
    "      * a 20.2% tip."
   ]
  },
  {
   "cell_type": "markdown",
   "id": "10f47c25-8578-4298-8450-08b0fef9d2d3",
   "metadata": {},
   "source": [
    "#### Program"
   ]
  },
  {
   "cell_type": "code",
   "execution_count": 1,
   "id": "61dbf9a1-60cb-42e9-933c-22b3772e88e8",
   "metadata": {},
   "outputs": [],
   "source": [
    "import numpy as np\n",
    "import skfuzzy as fuzz\n",
    "from skfuzzy import control as ctrl\n",
    "%matplotlib widget"
   ]
  },
  {
   "cell_type": "code",
   "execution_count": 2,
   "id": "b2759ea7-3fc6-43c3-bf90-666621c84c36",
   "metadata": {},
   "outputs": [],
   "source": [
    "# New Antecedent/Consequent objects hold universe variables and membership\n",
    "# functions\n",
    "quality = ctrl.Antecedent(np.arange(0, 11, 1), 'quality')\n",
    "service = ctrl.Antecedent(np.arange(0, 11, 1), 'service')\n",
    "tip = ctrl.Consequent(np.arange(0, 26, 1), 'tip')"
   ]
  },
  {
   "cell_type": "code",
   "execution_count": 3,
   "id": "f94dda81-038d-47bc-ba34-46a5968e98ff",
   "metadata": {},
   "outputs": [],
   "source": [
    "# Auto-membership function population is possible with .automf(3, 5, or 7)\n",
    "quality.automf(3)\n",
    "service.automf(3)"
   ]
  },
  {
   "cell_type": "code",
   "execution_count": 4,
   "id": "b99cc996-bb84-45b2-be00-add9886ae162",
   "metadata": {},
   "outputs": [],
   "source": [
    "# Custom membership functions can be built interactively with a familiar,\n",
    "# Pythonic API\n",
    "tip['low'] = fuzz.trimf(tip.universe, [0, 0, 13])\n",
    "tip['medium'] = fuzz.trimf(tip.universe, [0, 13, 25])\n",
    "tip['high'] = fuzz.trimf(tip.universe, [13, 25, 25])"
   ]
  },
  {
   "cell_type": "code",
   "execution_count": 5,
   "id": "e658f09e-1498-4e5d-b7f1-00c6275ff8c8",
   "metadata": {},
   "outputs": [
    {
     "data": {
      "application/vnd.jupyter.widget-view+json": {
       "model_id": "2d1868d73955483caade96997959f1d5",
       "version_major": 2,
       "version_minor": 0
      },
      "text/plain": [
       "Canvas(toolbar=Toolbar(toolitems=[('Home', 'Reset original view', 'home', 'home'), ('Back', 'Back to previous …"
      ]
     },
     "metadata": {},
     "output_type": "display_data"
    },
    {
     "data": {
      "application/vnd.jupyter.widget-view+json": {
       "model_id": "a8a88cefa75d463f80e3dd8525222e3b",
       "version_major": 2,
       "version_minor": 0
      },
      "text/plain": [
       "Canvas(toolbar=Toolbar(toolitems=[('Home', 'Reset original view', 'home', 'home'), ('Back', 'Back to previous …"
      ]
     },
     "metadata": {},
     "output_type": "display_data"
    },
    {
     "data": {
      "application/vnd.jupyter.widget-view+json": {
       "model_id": "14ae8a5b9c424ac59f0e87f5aa78164c",
       "version_major": 2,
       "version_minor": 0
      },
      "text/plain": [
       "Canvas(toolbar=Toolbar(toolitems=[('Home', 'Reset original view', 'home', 'home'), ('Back', 'Back to previous …"
      ]
     },
     "metadata": {},
     "output_type": "display_data"
    }
   ],
   "source": [
    "# You can see how these look with .view()\n",
    "quality.view()\n",
    "service.view()\n",
    "tip.view()"
   ]
  },
  {
   "cell_type": "code",
   "execution_count": 7,
   "id": "df42a740-940f-4e60-84b2-ad413801146e",
   "metadata": {},
   "outputs": [
    {
     "data": {
      "application/vnd.jupyter.widget-view+json": {
       "model_id": "0ad3fa2414fa402ab237f6805ccf4b65",
       "version_major": 2,
       "version_minor": 0
      },
      "text/plain": [
       "Canvas(toolbar=Toolbar(toolitems=[('Home', 'Reset original view', 'home', 'home'), ('Back', 'Back to previous …"
      ]
     },
     "metadata": {},
     "output_type": "display_data"
    },
    {
     "data": {
      "text/plain": [
       "(<Figure size 640x480 with 1 Axes>, <AxesSubplot:>)"
      ]
     },
     "execution_count": 7,
     "metadata": {},
     "output_type": "execute_result"
    }
   ],
   "source": [
    "rules = [\n",
    "    ctrl.Rule(quality['poor'] | service['poor'], tip['low']),\n",
    "    ctrl.Rule(service['average'], tip['medium']),\n",
    "    ctrl.Rule(service['good'] | quality['good'], tip['high'])\n",
    "]\n",
    "rules[1].view()"
   ]
  },
  {
   "cell_type": "code",
   "execution_count": 8,
   "id": "f57344d6-d4a6-4ac3-803a-805be3f17db9",
   "metadata": {},
   "outputs": [],
   "source": [
    "tipping_ctrl = ctrl.ControlSystem(rules)\n",
    "tipping = ctrl.ControlSystemSimulation(tipping_ctrl)\n",
    "# Pass inputs to the ControlSystem using Antecedent labels with Pythonic API\n",
    "# Note: if you like passing many inputs all at once, use .inputs(dict_of_data)\n",
    "tipping.input['quality'] = 6.5\n",
    "tipping.input['service'] = 9.8"
   ]
  },
  {
   "cell_type": "code",
   "execution_count": 9,
   "id": "cf82bbea-6678-47ef-91c9-94d5ec222864",
   "metadata": {},
   "outputs": [
    {
     "name": "stdout",
     "output_type": "stream",
     "text": [
      "19.847607361963192\n"
     ]
    },
    {
     "data": {
      "application/vnd.jupyter.widget-view+json": {
       "model_id": "ff572688859142c0902a158b2133b349",
       "version_major": 2,
       "version_minor": 0
      },
      "text/plain": [
       "Canvas(toolbar=Toolbar(toolitems=[('Home', 'Reset original view', 'home', 'home'), ('Back', 'Back to previous …"
      ]
     },
     "metadata": {},
     "output_type": "display_data"
    }
   ],
   "source": [
    "# Crunch the numbers\n",
    "tipping.compute()\n",
    "print(tipping.output['tip'])\n",
    "tip.view(sim=tipping)"
   ]
  },
  {
   "cell_type": "code",
   "execution_count": null,
   "id": "3b617c1e-0fdb-4e8b-8d73-aec8476c665a",
   "metadata": {},
   "outputs": [],
   "source": []
  }
 ],
 "metadata": {
  "kernelspec": {
   "display_name": "Python 3 (ipykernel)",
   "language": "python",
   "name": "python3"
  },
  "language_info": {
   "codemirror_mode": {
    "name": "ipython",
    "version": 3
   },
   "file_extension": ".py",
   "mimetype": "text/x-python",
   "name": "python",
   "nbconvert_exporter": "python",
   "pygments_lexer": "ipython3",
   "version": "3.9.7"
  }
 },
 "nbformat": 4,
 "nbformat_minor": 5
}
