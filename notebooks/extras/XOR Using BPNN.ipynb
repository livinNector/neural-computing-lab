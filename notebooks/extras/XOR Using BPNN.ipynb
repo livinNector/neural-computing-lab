{
 "cells": [
  {
   "cell_type": "markdown",
   "metadata": {},
   "source": [
    "# Training XOR Functiion using Back Propogation Algorithm Multilayer Perceptron"
   ]
  },
  {
   "cell_type": "markdown",
   "metadata": {},
   "source": [
    "## Defining class for Multilayer Perceptron Neural Network"
   ]
  },
  {
   "cell_type": "code",
   "execution_count": 1,
   "metadata": {},
   "outputs": [],
   "source": [
    "import numpy as np\n",
    "import pandas as pd\n",
    "import matplotlib.pyplot as plt\n",
    "import seaborn as sns"
   ]
  },
  {
   "cell_type": "code",
   "execution_count": 2,
   "metadata": {},
   "outputs": [],
   "source": [
    "def sigmoid(x):\n",
    "    # sigmoid activation function\n",
    "    return 1 / (1 + np.exp(-x))\n",
    "\n",
    "def d_sigmoid(x):\n",
    "    # derivative of sigmoid\n",
    "    return x * (1 - x)"
   ]
  },
  {
   "cell_type": "code",
   "execution_count": 3,
   "metadata": {},
   "outputs": [],
   "source": [
    "class NeuralNetwork:\n",
    "    def __init__(\n",
    "        self,\n",
    "        n_inputs,\n",
    "        n_hidden,\n",
    "        n_outputs,\n",
    "        l_rate,\n",
    "        n_epochs,\n",
    "        random_state=None,\n",
    "        activation=sigmoid,\n",
    "        d_activation=d_sigmoid,\n",
    "    ):\n",
    "        self.n_inputs = n_inputs\n",
    "        self.n_hidden = n_hidden\n",
    "        self.n_outputs = n_outputs\n",
    "        self.activation = activation\n",
    "        self.d_activation = d_activation\n",
    "        self.l_rate = l_rate\n",
    "        self.n_epochs = n_epochs\n",
    "        if random_state:\n",
    "            np.random.seed(random_state)\n",
    "        self.W = [\n",
    "            np.random.randn(t,f + 1) \n",
    "            for t,f in [\n",
    "                (self.n_hidden,self.n_inputs),\n",
    "                (self.n_outputs,self.n_hidden)\n",
    "            ]\n",
    "        ]\n",
    "        self.I = [None] * 2\n",
    "        self.O = [None] * 2\n",
    "        self.D = [None] * 2\n",
    "\n",
    "    def add_bias(self, X):\n",
    "        n = X.shape[1]\n",
    "        return np.vstack([np.ones((1, n)), X])\n",
    "\n",
    "    def error(self, T):\n",
    "        return np.mean(np.square(self.O[1].T - T))\n",
    "\n",
    "    def forward_propogate(self, X):\n",
    "        self.I[0] = self.add_bias(X.T)\n",
    "        self.O[0] = self.activation(self.W[0] @ self.I[0])\n",
    "        self.I[1] = self.add_bias(self.O[0])\n",
    "        self.O[1] = self.activation(self.W[1] @ self.I[1])\n",
    "        return self.O[1]\n",
    "\n",
    "    def backward_propogate(self, T):\n",
    "        E = T.T - self.O[1]\n",
    "        self.D[1] = E * self.d_activation(self.O[1])\n",
    "        E = self.W[1].T[1:] @ self.D[1]\n",
    "        self.D[0] = E * self.d_activation(self.O[0])\n",
    "\n",
    "    def update_weights(self):\n",
    "        for i in range(2):\n",
    "            self.W[i] += self.l_rate * self.D[i] @ self.I[i].T\n",
    "\n",
    "    def fit(self, X, Y):\n",
    "        for i in range(self.n_epochs): \n",
    "            self.forward_propogate(X)\n",
    "            self.backward_propogate(Y)\n",
    "            self.update_weights()\n",
    "            if i-20<0 or self.n_epochs-20-i<0:\n",
    "                print(f\"> epoch:{i}, Loss: {self.error(Y):.5f}\")\n",
    "        return self\n",
    "\n",
    "    def predict(self, X):\n",
    "        return self.forward_propogate(X).T\n",
    "\n"
   ]
  },
  {
   "cell_type": "markdown",
   "metadata": {},
   "source": [
    "## Defining Dataset for XOR Function"
   ]
  },
  {
   "cell_type": "code",
   "execution_count": 8,
   "metadata": {},
   "outputs": [
    {
     "data": {
      "text/html": [
       "<div>\n",
       "<style scoped>\n",
       "    .dataframe tbody tr th:only-of-type {\n",
       "        vertical-align: middle;\n",
       "    }\n",
       "\n",
       "    .dataframe tbody tr th {\n",
       "        vertical-align: top;\n",
       "    }\n",
       "\n",
       "    .dataframe thead th {\n",
       "        text-align: right;\n",
       "    }\n",
       "</style>\n",
       "<table border=\"1\" class=\"dataframe\">\n",
       "  <thead>\n",
       "    <tr style=\"text-align: right;\">\n",
       "      <th></th>\n",
       "      <th>x1</th>\n",
       "      <th>x2</th>\n",
       "      <th>y</th>\n",
       "    </tr>\n",
       "  </thead>\n",
       "  <tbody>\n",
       "    <tr>\n",
       "      <th>0</th>\n",
       "      <td>0</td>\n",
       "      <td>0</td>\n",
       "      <td>0</td>\n",
       "    </tr>\n",
       "    <tr>\n",
       "      <th>1</th>\n",
       "      <td>0</td>\n",
       "      <td>1</td>\n",
       "      <td>1</td>\n",
       "    </tr>\n",
       "    <tr>\n",
       "      <th>2</th>\n",
       "      <td>1</td>\n",
       "      <td>0</td>\n",
       "      <td>1</td>\n",
       "    </tr>\n",
       "    <tr>\n",
       "      <th>3</th>\n",
       "      <td>1</td>\n",
       "      <td>1</td>\n",
       "      <td>0</td>\n",
       "    </tr>\n",
       "  </tbody>\n",
       "</table>\n",
       "</div>"
      ],
      "text/plain": [
       "   x1  x2  y\n",
       "0   0   0  0\n",
       "1   0   1  1\n",
       "2   1   0  1\n",
       "3   1   1  0"
      ]
     },
     "execution_count": 8,
     "metadata": {},
     "output_type": "execute_result"
    }
   ],
   "source": [
    "xor = pd.DataFrame([\n",
    "    [0, 0, 0], \n",
    "    [0, 1, 1], \n",
    "    [1, 0, 1],\n",
    "    [1, 1, 0],\n",
    "],columns=[\"x1\",\"x2\",\"y\"])\n",
    "X,Y = xor[[\"x1\",\"x2\"]].values, xor[[\"y\"]].values\n",
    "xor\n"
   ]
  },
  {
   "cell_type": "code",
   "execution_count": 9,
   "metadata": {},
   "outputs": [
    {
     "data": {
      "image/png": "[encoded data removed]",
      "text/plain": [
       "<Figure size 432x288 with 1 Axes>"
      ]
     },
     "metadata": {
      "needs_background": "light"
     },
     "output_type": "display_data"
    }
   ],
   "source": [
    "sns.scatterplot(data=xor,x=\"x1\",y=\"x2\",hue=\"y\")\n",
    "plt.title(\"XOR Function\")\n",
    "plt.show()"
   ]
  },
  {
   "cell_type": "code",
   "execution_count": 10,
   "metadata": {},
   "outputs": [
    {
     "name": "stdout",
     "output_type": "stream",
     "text": [
      "Initial Weights\n"
     ]
    },
    {
     "data": {
      "text/plain": [
       "[array([[ 1.6905257 , -0.46593737,  0.03282016],\n",
       "        [ 0.40751628, -0.78892303,  0.00206557]]),\n",
       " array([[-8.90385858e-04, -1.75472431e+00,  1.01765801e+00]])]"
      ]
     },
     "execution_count": 10,
     "metadata": {},
     "output_type": "execute_result"
    }
   ],
   "source": [
    "NN = NeuralNetwork(2, 2,1, l_rate=10, n_epochs=5000, random_state=7)\n",
    "print(\"Initial Weights\")\n",
    "NN.W"
   ]
  },
  {
   "cell_type": "code",
   "execution_count": 11,
   "metadata": {
    "tags": []
   },
   "outputs": [
    {
     "name": "stdout",
     "output_type": "stream",
     "text": [
      "> epoch:0, Loss: 0.29544\n",
      "> epoch:1, Loss: 0.44390\n",
      "> epoch:2, Loss: 0.27650\n",
      "> epoch:3, Loss: 0.40392\n",
      "> epoch:4, Loss: 0.27909\n",
      "> epoch:5, Loss: 0.38483\n",
      "> epoch:6, Loss: 0.30651\n",
      "> epoch:7, Loss: 0.37320\n",
      "> epoch:8, Loss: 0.30004\n",
      "> epoch:9, Loss: 0.33986\n",
      "> epoch:10, Loss: 0.31502\n",
      "> epoch:11, Loss: 0.31403\n",
      "> epoch:12, Loss: 0.31212\n",
      "> epoch:13, Loss: 0.30339\n",
      "> epoch:14, Loss: 0.30490\n",
      "> epoch:15, Loss: 0.29996\n",
      "> epoch:16, Loss: 0.29995\n",
      "> epoch:17, Loss: 0.29750\n",
      "> epoch:18, Loss: 0.29681\n",
      "> epoch:19, Loss: 0.29541\n",
      "> epoch:4981, Loss: 0.00003\n",
      "> epoch:4982, Loss: 0.00003\n",
      "> epoch:4983, Loss: 0.00003\n",
      "> epoch:4984, Loss: 0.00003\n",
      "> epoch:4985, Loss: 0.00003\n",
      "> epoch:4986, Loss: 0.00003\n",
      "> epoch:4987, Loss: 0.00003\n",
      "> epoch:4988, Loss: 0.00003\n",
      "> epoch:4989, Loss: 0.00003\n",
      "> epoch:4990, Loss: 0.00003\n",
      "> epoch:4991, Loss: 0.00003\n",
      "> epoch:4992, Loss: 0.00003\n",
      "> epoch:4993, Loss: 0.00003\n",
      "> epoch:4994, Loss: 0.00003\n",
      "> epoch:4995, Loss: 0.00003\n",
      "> epoch:4996, Loss: 0.00003\n",
      "> epoch:4997, Loss: 0.00003\n",
      "> epoch:4998, Loss: 0.00003\n",
      "> epoch:4999, Loss: 0.00003\n"
     ]
    }
   ],
   "source": [
    "NN.fit(X, Y)\n",
    "Y_pred = NN.predict(X)"
   ]
  },
  {
   "cell_type": "code",
   "execution_count": 12,
   "metadata": {},
   "outputs": [
    {
     "name": "stdout",
     "output_type": "stream",
     "text": [
      "Trained Weights\n"
     ]
    },
    {
     "data": {
      "text/plain": [
       "[array([[ 3.18161941, -7.54757044, -7.47635266],\n",
       "        [ 8.62242094, -5.78732874, -5.77644031]]),\n",
       " array([[ -5.72493155, -12.00859217,  11.87787368]])]"
      ]
     },
     "execution_count": 12,
     "metadata": {},
     "output_type": "execute_result"
    }
   ],
   "source": [
    "print(\"Trained Weights\")\n",
    "NN.W"
   ]
  },
  {
   "cell_type": "code",
   "execution_count": 13,
   "metadata": {},
   "outputs": [
    {
     "data": {
      "text/html": [
       "<div>\n",
       "<style scoped>\n",
       "    .dataframe tbody tr th:only-of-type {\n",
       "        vertical-align: middle;\n",
       "    }\n",
       "\n",
       "    .dataframe tbody tr th {\n",
       "        vertical-align: top;\n",
       "    }\n",
       "\n",
       "    .dataframe thead th {\n",
       "        text-align: right;\n",
       "    }\n",
       "</style>\n",
       "<table border=\"1\" class=\"dataframe\">\n",
       "  <thead>\n",
       "    <tr style=\"text-align: right;\">\n",
       "      <th></th>\n",
       "      <th>Actual</th>\n",
       "      <th>Predicted</th>\n",
       "    </tr>\n",
       "  </thead>\n",
       "  <tbody>\n",
       "    <tr>\n",
       "      <th>0</th>\n",
       "      <td>0.0</td>\n",
       "      <td>0.004591</td>\n",
       "    </tr>\n",
       "    <tr>\n",
       "      <th>1</th>\n",
       "      <td>1.0</td>\n",
       "      <td>0.995224</td>\n",
       "    </tr>\n",
       "    <tr>\n",
       "      <th>2</th>\n",
       "      <td>1.0</td>\n",
       "      <td>0.995244</td>\n",
       "    </tr>\n",
       "    <tr>\n",
       "      <th>3</th>\n",
       "      <td>0.0</td>\n",
       "      <td>0.005885</td>\n",
       "    </tr>\n",
       "  </tbody>\n",
       "</table>\n",
       "</div>"
      ],
      "text/plain": [
       "   Actual  Predicted\n",
       "0     0.0   0.004591\n",
       "1     1.0   0.995224\n",
       "2     1.0   0.995244\n",
       "3     0.0   0.005885"
      ]
     },
     "execution_count": 13,
     "metadata": {},
     "output_type": "execute_result"
    }
   ],
   "source": [
    "pd.DataFrame(\n",
    "    np.hstack([Y, Y_pred]),\n",
    "    columns= [\"Actual\",\"Predicted\"]\n",
    ")"
   ]
  },
  {
   "cell_type": "code",
   "execution_count": 14,
   "metadata": {},
   "outputs": [],
   "source": [
    "def plot_decision_boundary(model,x_range,y_range=None,levels=50):\n",
    "    if y_range is None:\n",
    "        y_range = x_range\n",
    "    x = np.linspace(*x_range,100)\n",
    "    y = np.linspace(*y_range,100)\n",
    "    X = np.dstack(np.meshgrid(x,y))\n",
    "    y_pred = model.predict(X.reshape(-1,2)).reshape(X.shape[:2])\n",
    "    plt.contourf(X[:,:,0],X[:,:,1],y_pred,levels=levels,cmap=\"gray\")"
   ]
  },
  {
   "cell_type": "code",
   "execution_count": 15,
   "metadata": {},
   "outputs": [
    {
     "data": {
      "image/png": "[encoded data removed]",
      "text/plain": [
       "<Figure size 360x360 with 1 Axes>"
      ]
     },
     "metadata": {
      "needs_background": "light"
     },
     "output_type": "display_data"
    }
   ],
   "source": [
    "plt.figure(figsize=(5,5),tight_layout=True)\n",
    "plot_decision_boundary(NN,(-.5,1.5))\n",
    "sns.scatterplot(data=xor,x=\"x1\",y=\"x2\",hue=\"y\")\n",
    "plt.title(\"XOR Decision Boundary\")\n",
    "plt.show()"
   ]
  }
 ],
 "metadata": {
  "interpreter": {
   "hash": "a50483451aae5afda5080e476ef39e1216fe26424b1765eebc7d3a93f2612932"
  },
  "kernelspec": {
   "display_name": "Python 3.9.7 64-bit ('ml': conda)",
   "name": "python3"
  },
  "language_info": {
   "codemirror_mode": {
    "name": "ipython",
    "version": 3
   },
   "file_extension": ".py",
   "mimetype": "text/x-python",
   "name": "python",
   "nbconvert_exporter": "python",
   "pygments_lexer": "ipython3",
   "version": "3.9.7"
  }
 },
 "nbformat": 4,
 "nbformat_minor": 4
}
