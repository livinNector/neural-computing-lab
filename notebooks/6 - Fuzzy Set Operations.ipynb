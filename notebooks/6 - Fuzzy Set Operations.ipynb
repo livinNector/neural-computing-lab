{
 "cells": [
  {
   "cell_type": "markdown",
   "id": "0a8db734-9e94-4a23-a055-017fcb657f85",
   "metadata": {
    "tags": []
   },
   "source": [
    "# Exercise 6 - Fuzzy Set Operations"
   ]
  },
  {
   "cell_type": "markdown",
   "id": "590e66b0-c798-457e-9aa6-eea9839a5313",
   "metadata": {
    "tags": []
   },
   "source": [
    "#### Fuzzy Set Operations:\n",
    "\n",
    "| S. no. | Operation            | Definition using membership function                      |\n",
    "| ------ | -------------------- | --------------------------------------------------------- |\n",
    "| 1.     | Complement           | $$\\mu_{\\bar A}(x)= 1-\\mu_A(x)$$                           |\n",
    "| 2.     | Union                | $$\\mu_{A\\cup B}(x) = \\max(\\mu_A(x),\\mu_B(x)))$$           |\n",
    "| 3.     | Intersection         | $$\\mu_{A\\cap B}(x) = \\min(\\mu_A(x),\\mu_B(x))$$            |\n",
    "| 4.     | Algebraic Product    | $$\\mu_{A \\cdot B}(x) = \\mu_A(x)\\cdot \\mu_B(x)$$           |\n",
    "| 5.     | Algebraic Sum        | $$\\mu_{A+B}(x) = \\mu_A(x)+\\mu_B(x) - \\mu_{A \\cdot B}(x)$$ |\n",
    "| 6.     | Algebraic Difference | $$\\mu_{A-B}(x) = \\mu_{A\\cap \\bar B}(x)$$                  |\n",
    "| 7.     | Bounded Product      | $$\\mu_{A\\odot B}(x) =\\max(\\mu_A(x)+\\mu_B(x)-1,0)$$        |\n",
    "| 8.     | Bounded Sum          | $$\\mu_{A\\oplus B}(x) =\\min(\\mu_A(x)+\\mu_B(x),1)$$         |\n",
    "| 9.     | Bounded Difference   | $$\\mu_{A\\ominus B}(x) = \\max(\\mu_A(x)-\\mu_B(x),0)$$       |"
   ]
  },
  {
   "cell_type": "markdown",
   "id": "729c02d2-a90c-469d-aa5f-de8b9bdb4590",
   "metadata": {},
   "source": [
    "### Implementation using Matlab or Octave"
   ]
  },
  {
   "cell_type": "markdown",
   "id": "05fb502d-ef59-4b8d-9119-fbd9deaadbdd",
   "metadata": {
    "tags": []
   },
   "source": [
    "#### Aim:\n",
    "To write a MATLAB or Octave program to find algebraic sum, algebraic subtraction, algebraic product, bounded sum,  bounded subtraction and bounded product of two fuzzy sets."
   ]
  },
  {
   "cell_type": "markdown",
   "id": "fcab19a4-9616-4045-a1e5-1d5d6f5b2833",
   "metadata": {
    "tags": []
   },
   "source": [
    "#### Program:"
   ]
  },
  {
   "cell_type": "markdown",
   "id": "62c07af5-daa9-432b-b5e1-24152fabeb6f",
   "metadata": {},
   "source": [
    "```octave\n",
    "% Defining operations as functions\n",
    "complement = @(A) 1 - A\n",
    "union = @(A,B) max(A,B)\n",
    "intersection = @(A,B) min(A,B)\n",
    "algebraic_prod = @(A,B) A.*B\n",
    "algebraic_sum = @(A,B) A+B - algebraic_prod(A,B)\n",
    "algebraic_diff = @(A,B) A + complement(B)\n",
    "bounded_prod = @(A,B) union(A+B-1,0)\n",
    "bounded_sum = @(A,B) intersection(A+B,1)\n",
    "bounded_diff = @(A,B) union(A-B,0)\n",
    "\n",
    "% Declaring two fuzzy sets for testing\n",
    "A = [1 .5]\n",
    "B = [.4 .2]\n",
    "\n",
    "% Displaying the results\n",
    "disp('The algebraic sum')\n",
    "disp(algebraic_sum(A,B))\n",
    "disp('The algebraic difference')\n",
    "disp(algebraic_diff(A,B))\n",
    "disp('The algebraic product')\n",
    "disp(algebraic_prod(A,B))\n",
    "disp('The bounded sum')\n",
    "disp(bounded_sum(A,B))\n",
    "disp('The bounded difference')\n",
    "disp (bounded_diff(A,B))\n",
    "disp('The bounded product')\n",
    "disp(bounded_prod(A,B))\n",
    "```"
   ]
  },
  {
   "cell_type": "markdown",
   "id": "80d94bb4-8b21-46f9-abf6-f75a0c9abedf",
   "metadata": {},
   "source": [
    "#### Output:\n",
    "```\n",
    "The algebraic sum\n",
    "   1.0000   0.6000\n",
    "The algebraic difference\n",
    "   1.6000   1.3000\n",
    "The algebraic product\n",
    "   0.4000   0.1000\n",
    "The bounded sum\n",
    "   1.0000   0.7000\n",
    "The bounded difference\n",
    "   0.6000   0.3000\n",
    "The bounded product\n",
    "   0.4000        0\n",
    "```"
   ]
  },
  {
   "cell_type": "markdown",
   "id": "a90fabc7-7fee-413a-9afb-608858a1775b",
   "metadata": {},
   "source": [
    "### Implementation using Python"
   ]
  },
  {
   "cell_type": "markdown",
   "id": "72f57534-7906-43fc-bd14-823498021073",
   "metadata": {
    "tags": []
   },
   "source": [
    "#### Aim:\n",
    "To write a python program to find algebraic sum, algebraic subtraction, algebraic product, bounded sum,  bounded subtraction and bounded product of two fuzzy sets."
   ]
  },
  {
   "cell_type": "markdown",
   "id": "3aae465a-2e15-4657-af0c-85a98fd2bc98",
   "metadata": {},
   "source": [
    "#### Program"
   ]
  },
  {
   "cell_type": "code",
   "execution_count": null,
   "id": "250904c4-a66a-4068-bcfc-f6dcd1deda13",
   "metadata": {},
   "outputs": [],
   "source": [
    "import numpy as np"
   ]
  },
  {
   "cell_type": "code",
   "execution_count": 17,
   "id": "0448f671-0a68-4ed8-b007-1ab1ded18a47",
   "metadata": {
    "tags": []
   },
   "outputs": [],
   "source": [
    "def complement(A):\n",
    "    return 1-A\n",
    "\n",
    "def union(A,B):\n",
    "    return np.max([A,B],axis=0)\n",
    "\n",
    "def intersection(A,B):\n",
    "    return np.min([A,B],axis=0)\n",
    "\n",
    "def algebraic_prod(A,B):\n",
    "    return A*B\n",
    "\n",
    "def algebraic_sum(A,B):\n",
    "    return A+B-algebraic_prod(A,B)\n",
    "\n",
    "def algebraic_diff(A,B):\n",
    "    return A+complement(B)\n",
    "\n",
    "def bounded_prod(A,B):\n",
    "    return union(A+B-1,np.zeros_like(A))\n",
    "\n",
    "def bounded_sum(A,B):\n",
    "    return intersection(A+B,np.ones_like(A))\n",
    "\n",
    "def bounded_diff(A,B):\n",
    "    return union(A-B,np.zeros_like(A))"
   ]
  },
  {
   "cell_type": "code",
   "execution_count": 18,
   "id": "6f496213-548d-483c-8fa6-2c236c55dd6e",
   "metadata": {},
   "outputs": [
    {
     "name": "stdout",
     "output_type": "stream",
     "text": [
      "The algebraic sum [1.  0.6]\n",
      "The algebraic difference [1.6 1.3]\n",
      "The algebraic product [0.4 0.1]\n",
      "The bounded sum [1.  0.7]\n",
      "The bounded difference [0.6 0.3]\n",
      "The bounded product [0.4 0. ]\n"
     ]
    }
   ],
   "source": [
    "A=np.array([1, .5])\n",
    "B=np.array([.4, .2])\n",
    "\n",
    "print('The algebraic sum',algebraic_sum(A,B))\n",
    "print('The algebraic difference',algebraic_diff(A,B))\n",
    "print('The algebraic product',algebraic_prod(A,B))\n",
    "print('The bounded sum',bounded_sum(A,B))\n",
    "print('The bounded difference',bounded_diff(A,B))\n",
    "print('The bounded product',bounded_prod(A,B))"
   ]
  }
 ],
 "metadata": {
  "kernelspec": {
   "display_name": "Python 3 (ipykernel)",
   "language": "python",
   "name": "python3"
  },
  "language_info": {
   "codemirror_mode": {
    "name": "ipython",
    "version": 3
   },
   "file_extension": ".py",
   "mimetype": "text/x-python",
   "name": "python",
   "nbconvert_exporter": "python",
   "pygments_lexer": "ipython3",
   "version": "3.9.7"
  }
 },
 "nbformat": 4,
 "nbformat_minor": 5
}
