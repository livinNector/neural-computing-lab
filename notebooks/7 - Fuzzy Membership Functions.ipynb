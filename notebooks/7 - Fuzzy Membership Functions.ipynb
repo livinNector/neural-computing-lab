{
 "cells": [
  {
   "cell_type": "markdown",
   "id": "5f871e37-421b-451b-9943-d52d472558b2",
   "metadata": {
    "tags": []
   },
   "source": [
    "# Exercise 7 - Fuzzy Membership Functions"
   ]
  },
  {
   "cell_type": "markdown",
   "id": "19fe0922-623a-4e21-934f-d0e891900a35",
   "metadata": {},
   "source": [
    "### Implementation using Matlab or Octave"
   ]
  },
  {
   "cell_type": "markdown",
   "id": "b35ba396-a025-4057-b713-b5042684537a",
   "metadata": {},
   "source": [
    "#### Aim:\n",
    "To write a program in MATLAB/Octave to plot triangular, trapezoidal and bell shaped  membership functions."
   ]
  },
  {
   "cell_type": "markdown",
   "id": "e5615ecf-c540-4edc-a2bd-8afceb0190c7",
   "metadata": {},
   "source": [
    "#### Program"
   ]
  },
  {
   "cell_type": "markdown",
   "id": "07ae95b4-a291-4f07-8854-3b8654c58f4a",
   "metadata": {},
   "source": [
    "```octave\n",
    "% For Octave \n",
    "% Use pkg install -forge fuzzy-logic-toolkit\n",
    "% to install the package.\n",
    "% and load it using the below line\n",
    "pkg load fuzzy-logic-toolkit\n",
    "% The above line is not required in MATLAB\n",
    "\n",
    "x=(0.0:.2:10.0)\n",
    "\n",
    "y= [trimf(x, [1 3 5]),% Triangular membership function\n",
    "    trapmf(x, [1 3 5 7]),% Trapezoidal membership function\n",
    "    gbellmf(x, [1 3 5])] % Bell-shaped membership function \n",
    "\n",
    "for i = 1:3\n",
    "    subplot(3,1,i)\n",
    "    plot(x, y(i,:) )\n",
    "end\n",
    "\n",
    "\n",
    "```"
   ]
  },
  {
   "cell_type": "markdown",
   "id": "05bcb2fe-1848-4499-a2b3-05ff5de8577b",
   "metadata": {},
   "source": [
    "#### Output"
   ]
  },
  {
   "cell_type": "markdown",
   "id": "aaef42d6-9ac5-4332-993b-d1a0729dacfa",
   "metadata": {},
   "source": [
    "![hello](./fuzzy_membership_functions.svg)"
   ]
  },
  {
   "cell_type": "markdown",
   "id": "f02efffd-3885-40de-a249-47d2dd9da8ca",
   "metadata": {},
   "source": [
    "### Implementation using Python"
   ]
  },
  {
   "cell_type": "markdown",
   "id": "7f3eaad6-f03b-48c6-ac00-ff526f434fc5",
   "metadata": {
    "tags": []
   },
   "source": [
    "#### Aim:\n",
    "To write a Python to plot triangular, trapezoidal and bell shaped  membership functions."
   ]
  },
  {
   "cell_type": "code",
   "execution_count": 3,
   "id": "16e8b3a5-ebb1-496d-b02a-945fb2488d68",
   "metadata": {},
   "outputs": [],
   "source": [
    "import numpy as np\n",
    "import matplotlib.pyplot as plt\n",
    "import skfuzzy as fuzz"
   ]
  },
  {
   "cell_type": "code",
   "execution_count": 4,
   "id": "36055681-e731-4755-8c7d-ac5441e70390",
   "metadata": {},
   "outputs": [
    {
     "data": {
      "image/png": "[encoded data removed]",
      "text/plain": [
       "<Figure size 432x288 with 3 Axes>"
      ]
     },
     "metadata": {
      "needs_background": "light"
     },
     "output_type": "display_data"
    }
   ],
   "source": [
    "x = np.arange(0,11,.2)\n",
    "y= [\n",
    "    fuzz.trimf(x,[1,3,5]),\n",
    "    fuzz.trapmf(x,[1,3,5,7]),    \n",
    "    fuzz.gbellmf(x,1,3,5)\n",
    "]\n",
    "\n",
    "for i in range(3):\n",
    "    plt.subplot(3,1,i+1)\n",
    "    plt.plot(x,y[i])\n",
    "plt.tight_layout()\n",
    "plt.show()"
   ]
  }
 ],
 "metadata": {
  "kernelspec": {
   "display_name": "Python 3 (ipykernel)",
   "language": "python",
   "name": "python3"
  },
  "language_info": {
   "codemirror_mode": {
    "name": "ipython",
    "version": 3
   },
   "file_extension": ".py",
   "mimetype": "text/x-python",
   "name": "python",
   "nbconvert_exporter": "python",
   "pygments_lexer": "ipython3",
   "version": "3.9.7"
  }
 },
 "nbformat": 4,
 "nbformat_minor": 5
}
