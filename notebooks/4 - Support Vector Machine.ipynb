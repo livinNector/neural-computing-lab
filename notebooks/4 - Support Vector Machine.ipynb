{
 "cells": [
  {
   "cell_type": "markdown",
   "id": "c4ea904b",
   "metadata": {},
   "source": [
    "# Exercise 4 - Support Vector Machine\n",
    "#### Aim:\n",
    "To implement Character Recognition with Support Vector Machine using Python Programming.\n",
    "#### Program:"
   ]
  },
  {
   "cell_type": "code",
   "execution_count": 1,
   "id": "45d6ee47",
   "metadata": {},
   "outputs": [],
   "source": [
    "# Standard scientific Python imports\n",
    "import numpy as np # linear algebra\n",
    "import pandas as pd # data processing, CSV file I/O (e.g. pd.read_csv)\n",
    "import matplotlib.pyplot as plt\n",
    "%matplotlib inline"
   ]
  },
  {
   "cell_type": "code",
   "execution_count": 2,
   "id": "3cac6ef9",
   "metadata": {},
   "outputs": [],
   "source": [
    "# Import datasets, classifiers and performance metrics\n",
    "from sklearn import datasets, svm, metrics"
   ]
  },
  {
   "cell_type": "code",
   "execution_count": 3,
   "id": "687c6c10",
   "metadata": {},
   "outputs": [
    {
     "name": "stdout",
     "output_type": "stream",
     "text": [
      "dataset target name: \n",
      "[0 1 2 3 4 5 6 7 8 9]\n",
      "shape of datset: (1797, 64) and target: (1797,)\n",
      "shape of the images: (1797, 8, 8)\n"
     ]
    }
   ],
   "source": [
    "# load the digits dataset\n",
    "digits = datasets.load_digits()\n",
    "print(f'dataset target name: \\n{digits.target_names}')\n",
    "print(f'shape of datset: {digits.data.shape} and target: {digits.target.shape}')\n",
    "print(f'shape of the images: {digits.images.shape}')"
   ]
  },
  {
   "cell_type": "code",
   "execution_count": 4,
   "id": "bd9d9247",
   "metadata": {},
   "outputs": [
    {
     "data": {
      "image/png": "[encoded data removed]",
      "text/plain": [
       "<Figure size 432x288 with 10 Axes>"
      ]
     },
     "metadata": {
      "needs_background": "light"
     },
     "output_type": "display_data"
    }
   ],
   "source": [
    "#the images are also included in the dataset as digits.images\n",
    "for i in range(0,10):\n",
    "    plt.subplot(2, 5,i + 1)\n",
    "    plt.axis('off')\n",
    "    plt.imshow(digits.images[i], cmap=plt.cm.gray_r)\n",
    "    plt.title(f'Training: {digits.target[i]}')\n",
    "plt.tight_layout()"
   ]
  },
  {
   "cell_type": "code",
   "execution_count": 9,
   "id": "e683d5ee",
   "metadata": {},
   "outputs": [
    {
     "name": "stdout",
     "output_type": "stream",
     "text": [
      "Training data and target sizes: \n",
      "(1347, 64), (1347,)\n",
      "Test data and target sizes: \n",
      "(450, 64), (450,)\n"
     ]
    }
   ],
   "source": [
    "from sklearn.model_selection import train_test_split\n",
    "X,y = digits.data,digits.target\n",
    "X_train, X_test, y_train, y_test = train_test_split(X,y,random_state=1)\n",
    "print(f'Training data and target sizes: \\n{X_train.shape}, {y_train.shape}')\n",
    "print(f'Test data and target sizes: \\n{X_test.shape}, {y_test.shape}')"
   ]
  },
  {
   "cell_type": "code",
   "execution_count": 10,
   "id": "8b8225e1",
   "metadata": {},
   "outputs": [
    {
     "name": "stdout",
     "output_type": "stream",
     "text": [
      "Classification report for classifier SVC(gamma=0.001):\n",
      "              precision    recall  f1-score   support\n",
      "\n",
      "           0       1.00      1.00      1.00        53\n",
      "           1       1.00      1.00      1.00        42\n",
      "           2       1.00      1.00      1.00        41\n",
      "           3       1.00      1.00      1.00        52\n",
      "           4       1.00      1.00      1.00        47\n",
      "           5       0.97      0.97      0.97        39\n",
      "           6       1.00      1.00      1.00        43\n",
      "           7       1.00      0.98      0.99        48\n",
      "           8       1.00      0.97      0.99        37\n",
      "           9       0.94      0.98      0.96        48\n",
      "\n",
      "    accuracy                           0.99       450\n",
      "   macro avg       0.99      0.99      0.99       450\n",
      "weighted avg       0.99      0.99      0.99       450\n",
      "\n",
      "Confusion matrix:\n",
      "[[53  0  0  0  0  0  0  0  0  0]\n",
      " [ 0 42  0  0  0  0  0  0  0  0]\n",
      " [ 0  0 41  0  0  0  0  0  0  0]\n",
      " [ 0  0  0 52  0  0  0  0  0  0]\n",
      " [ 0  0  0  0 47  0  0  0  0  0]\n",
      " [ 0  0  0  0  0 38  0  0  0  1]\n",
      " [ 0  0  0  0  0  0 43  0  0  0]\n",
      " [ 0  0  0  0  0  0  0 47  0  1]\n",
      " [ 0  0  0  0  0  0  0  0 36  1]\n",
      " [ 0  0  0  0  0  1  0  0  0 47]]\n"
     ]
    }
   ],
   "source": [
    "classifier = svm.SVC(gamma=0.001)\n",
    "classifier.fit(X_train,y_train)\n",
    "y_pred = classifier.predict(X_test)\n",
    "print(f\"Classification report for classifier {classifier}:\")\n",
    "print(metrics.classification_report(y_test, y_pred))\n",
    "print(\"Confusion matrix:\")\n",
    "print(metrics.confusion_matrix(y_test, y_pred))"
   ]
  }
 ],
 "metadata": {
  "kernelspec": {
   "display_name": "Python 3 (ipykernel)",
   "language": "python",
   "name": "python3"
  },
  "language_info": {
   "codemirror_mode": {
    "name": "ipython",
    "version": 3
   },
   "file_extension": ".py",
   "mimetype": "text/x-python",
   "name": "python",
   "nbconvert_exporter": "python",
   "pygments_lexer": "ipython3",
   "version": "3.9.7"
  }
 },
 "nbformat": 4,
 "nbformat_minor": 5
}
