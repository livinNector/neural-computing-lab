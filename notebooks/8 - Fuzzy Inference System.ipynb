{
 "cells": [
  {
   "cell_type": "markdown",
   "id": "843dbb51-4f83-4d58-8196-a91052674cff",
   "metadata": {
    "tags": []
   },
   "source": [
    "# Exercise 8 - Fuzzy Inference System"
   ]
  },
  {
   "cell_type": "markdown",
   "id": "621b4294-ace8-4971-824b-166553e63dcb",
   "metadata": {},
   "source": [
    "#### Aim:\n",
    "To implement a Fuzzy Inference System (FIS) for which the inputs, output and rules are given as below."
   ]
  },
  {
   "cell_type": "markdown",
   "id": "e7a7aa00-f95a-4cb2-b54e-15fdeb1f0e4f",
   "metadata": {},
   "source": [
    "**Inputs:** Temperature and Cloud Cover  \n",
    "*Temperature*: {Freeze, Cool, Warm, Hot}  \n",
    "*Cloud Cover*:\t{Sunny, Partly Cloud, Overcast}  \n",
    "\n",
    "**Output:** Speed  \n",
    "*Speed*: {Fast, Slow}  \n",
    "\n",
    "**Rules:**  \n",
    "1. If cloud cover is Sunny and temperature is warm, then drive Fast  \n",
    "`Sunny (Cover) and Warm (Temp) -> Fast (Speed)`\n",
    "2. If cloud cover is cloudy and temperature is cool, then drive Slow  \n",
    "`Cloudy (Cover) and Cool (Temp) -> Slow (Speed)`"
   ]
  },
  {
   "cell_type": "markdown",
   "id": "505f6952-b430-47da-911d-604f4a146f63",
   "metadata": {},
   "source": [
    "### Procedure"
   ]
  },
  {
   "cell_type": "markdown",
   "id": "df2dc466-49d5-4326-8c70-0bff31b9b120",
   "metadata": {},
   "source": [
    "1. Go to command window in Matlab and type fuzzy.\n",
    "2. Now, new Fuzzy Logic Designer window will be opened.\n",
    "3. Input / Output Variable \n",
    "    1. Go to Edit Window and click Add variable.\n",
    "    2. As per our requirements create two input variables, Temperature and Cloud Cover.\n",
    "    3. Create one output variable, Speed.\n",
    "4. Temperature:\n",
    "    1. Double click the Temperature input variable in Fuzzy Logic Designer window.\n",
    "    2. New window will be opened and remove all the Membership Functions.\n",
    "    3. Now, Go to Edit and Click Add MFs and select the 4 Parameters for Temperature Class. \n",
    "    4. Change the following fields as mentioned data in the given below table.\n",
    "        \n",
    "Inputs : Temperature -> Freezing, Cool, Warm and Hot\n",
    "\n",
    "| Temperature | MF1         | MF2        | MF3        | MF4             |\n",
    "| ----------- | ----------- | ---------- | ---------- | --------------- |\n",
    "| Range       | [0 110]     | [0 110]    | [0 110]    | [0 110]         |\n",
    "| Name        | Freezing    | Cool       | Warm       | Hot             |\n",
    "| Type        | trapmf      | trimf      | trimf      | trapmf          |\n",
    "| Parameter   | [0 0 30 50] | [30 50 70] | [50 70 90] | [70 90 110 110] |\n",
    "\n",
    "5. Similarly, add the datas to the Cloud Cover variables and Speed variables.\n",
    "6. Cloud Cover:\n",
    "Inputs : Cloud Cover -> Sunny, Partly Cloud and Overcast\n",
    "\n",
    "| Cloud Cover | MF1         | MF2          | MF3             |\n",
    "| ----------- | ----------- | ------------ | --------------- |\n",
    "| Range       | [0 110]     | [0 110]      | [0 110]         |\n",
    "| Name        | Sunny       | Partly Cloud | Overcast        |\n",
    "| Type        | trapmf      | trimf        | trapmf          |\n",
    "| Parameter   | [0 0 20 40] | [20 50 80]   | [60 80 100 100] |\n",
    "\n",
    "\n",
    "7. Speed:\n",
    "Output : Speed -> Slow and Fast\n",
    "\n",
    "| Speed     | MF1         | MF2             |\n",
    "| --------- | ----------- | --------------- |\n",
    "| Range     | [0 100]     | [0 100]         |\n",
    "| Name      | Slow        | Fast            |\n",
    "| Type      | trapmf      | trapmf          |\n",
    "| Parameter | [0 0 25 75] | [25 75 100 100] |\n",
    "\n",
    "8. Goto Rules: Edit -> Rules\n",
    "9. Add the Rules\n",
    "```\n",
    "Rule-1 : Sunny (Cover) and Warm (Temp) -> Fast (Speed)\n",
    "Rule-2 : Cloudy (Cover) and Cool (Temp) -> Slow (Speed)\n",
    "```\n",
    "10.  Go to view -> Rules\n",
    "11. Exit."
   ]
  },
  {
   "cell_type": "markdown",
   "id": "ba88f481-99dd-4199-982a-46e6a14a9c1d",
   "metadata": {},
   "source": [
    "### Sample Input and Output:\n",
    "Membership functions for Temperature variable "
   ]
  },
  {
   "cell_type": "code",
   "execution_count": 1,
   "id": "06e05d52-0241-4abb-a5b0-0108c4437fc7",
   "metadata": {},
   "outputs": [],
   "source": [
    "import numpy as np\n",
    "import skfuzzy as fuzz\n",
    "from skfuzzy import control as ctrl\n",
    "%matplotlib widget"
   ]
  },
  {
   "cell_type": "code",
   "execution_count": 2,
   "id": "a783939d-0357-41cd-bf79-f9957e185c4b",
   "metadata": {},
   "outputs": [],
   "source": [
    "# New Antecedent/Consequent objects hold universe variables and membership\n",
    "# functions\n",
    "x1 = np.arange(0, 110,1)\n",
    "x2=x3 = np.arange(0,100,1)\n",
    "temp = ctrl.Antecedent(x1, 'Temperature')\n",
    "cover = ctrl.Antecedent(x2, 'Cloud Cover')\n",
    "speed = ctrl.Consequent(x3, 'Speed')"
   ]
  },
  {
   "cell_type": "code",
   "execution_count": 3,
   "id": "d5241612-178f-494e-8294-8409d7f15ff9",
   "metadata": {},
   "outputs": [],
   "source": [
    "temp[\"Freezing\"] = fuzz.trapmf(x1,[0,0,30,50])\n",
    "temp[\"Cool\"] = fuzz.trimf(x1,[30,50,70])\n",
    "temp[\"Warm\"] = fuzz.trimf(x1,[50,70,90])\n",
    "temp[\"Hot\"] = fuzz.trapmf(x1,[70,90,110,110])"
   ]
  },
  {
   "cell_type": "code",
   "execution_count": 4,
   "id": "62c97e9b-7e16-4955-b8a2-cb8fa755cec5",
   "metadata": {},
   "outputs": [],
   "source": [
    "cover[\"Sunny\"] = fuzz.trapmf(x2,[0,0,20,40])\n",
    "cover[\"Partly Cloud\"] = fuzz.trimf(x2,[20,50,80])\n",
    "cover[\"Overcast\"] = fuzz.trapmf(x2,[60,80,100,100])"
   ]
  },
  {
   "cell_type": "code",
   "execution_count": 5,
   "id": "63bc320b-0ee0-4830-8eee-ee9171580878",
   "metadata": {},
   "outputs": [],
   "source": [
    "speed[\"Slow\"] = fuzz.trapmf(x3,[0,0,25,75])\n",
    "speed[\"Fast\"] = fuzz.trapmf(x3,[25,75,100,100])"
   ]
  },
  {
   "cell_type": "code",
   "execution_count": 6,
   "id": "a802b88d-0745-4b42-b067-fc6d9b809ff1",
   "metadata": {},
   "outputs": [
    {
     "data": {
      "application/vnd.jupyter.widget-view+json": {
       "model_id": "9c67b95e3049445587d5c1ae042607af",
       "version_major": 2,
       "version_minor": 0
      },
      "text/plain": [
       "Canvas(toolbar=Toolbar(toolitems=[('Home', 'Reset original view', 'home', 'home'), ('Back', 'Back to previous …"
      ]
     },
     "metadata": {},
     "output_type": "display_data"
    },
    {
     "data": {
      "application/vnd.jupyter.widget-view+json": {
       "model_id": "59d00c0aacc24e96828015fe02080c23",
       "version_major": 2,
       "version_minor": 0
      },
      "text/plain": [
       "Canvas(toolbar=Toolbar(toolitems=[('Home', 'Reset original view', 'home', 'home'), ('Back', 'Back to previous …"
      ]
     },
     "metadata": {},
     "output_type": "display_data"
    },
    {
     "data": {
      "application/vnd.jupyter.widget-view+json": {
       "model_id": "455c5cd82a62473487867ff65119188b",
       "version_major": 2,
       "version_minor": 0
      },
      "text/plain": [
       "Canvas(toolbar=Toolbar(toolitems=[('Home', 'Reset original view', 'home', 'home'), ('Back', 'Back to previous …"
      ]
     },
     "metadata": {},
     "output_type": "display_data"
    }
   ],
   "source": [
    "temp.view()\n",
    "cover.view()\n",
    "speed.view()"
   ]
  },
  {
   "cell_type": "code",
   "execution_count": 7,
   "id": "1c52a8c4-4a59-4f2e-9be7-83ca82840739",
   "metadata": {},
   "outputs": [
    {
     "data": {
      "application/vnd.jupyter.widget-view+json": {
       "model_id": "dce85c1821004390915d7d7490d6a8a5",
       "version_major": 2,
       "version_minor": 0
      },
      "text/plain": [
       "Canvas(toolbar=Toolbar(toolitems=[('Home', 'Reset original view', 'home', 'home'), ('Back', 'Back to previous …"
      ]
     },
     "metadata": {},
     "output_type": "display_data"
    },
    {
     "data": {
      "text/plain": [
       "(<Figure size 640x480 with 1 Axes>, <AxesSubplot:>)"
      ]
     },
     "execution_count": 7,
     "metadata": {},
     "output_type": "execute_result"
    }
   ],
   "source": [
    "rules=[\n",
    "    ctrl.Rule(cover['Sunny'] & temp['Warm'], speed['Fast']),\n",
    "    ctrl.Rule(cover['Partly Cloud'] & temp[\"Cool\"], speed['Slow'])\n",
    "]\n",
    "rules[0].view()"
   ]
  },
  {
   "cell_type": "code",
   "execution_count": 8,
   "id": "6e26683d-52d1-4c24-940c-413c1e419dac",
   "metadata": {},
   "outputs": [
    {
     "name": "stdout",
     "output_type": "stream",
     "text": [
      "speed: 61.53213570106609\n"
     ]
    },
    {
     "data": {
      "application/vnd.jupyter.widget-view+json": {
       "model_id": "3647d8093f5d45ee93e6c5df5b89508a",
       "version_major": 2,
       "version_minor": 0
      },
      "text/plain": [
       "Canvas(toolbar=Toolbar(toolitems=[('Home', 'Reset original view', 'home', 'home'), ('Back', 'Back to previous …"
      ]
     },
     "metadata": {},
     "output_type": "display_data"
    },
    {
     "data": {
      "application/vnd.jupyter.widget-view+json": {
       "model_id": "cf94a0829db54440992a01f086a795c7",
       "version_major": 2,
       "version_minor": 0
      },
      "text/plain": [
       "Canvas(toolbar=Toolbar(toolitems=[('Home', 'Reset original view', 'home', 'home'), ('Back', 'Back to previous …"
      ]
     },
     "metadata": {},
     "output_type": "display_data"
    },
    {
     "data": {
      "application/vnd.jupyter.widget-view+json": {
       "model_id": "cd600ea0ce784a5888f263fe13cb202d",
       "version_major": 2,
       "version_minor": 0
      },
      "text/plain": [
       "Canvas(toolbar=Toolbar(toolitems=[('Home', 'Reset original view', 'home', 'home'), ('Back', 'Back to previous …"
      ]
     },
     "metadata": {},
     "output_type": "display_data"
    },
    {
     "name": "stdout",
     "output_type": "stream",
     "text": [
      "speed: 29.16666666666666\n"
     ]
    },
    {
     "data": {
      "application/vnd.jupyter.widget-view+json": {
       "model_id": "7d81f9f4f87746fca60debd57fb8c116",
       "version_major": 2,
       "version_minor": 0
      },
      "text/plain": [
       "Canvas(toolbar=Toolbar(toolitems=[('Home', 'Reset original view', 'home', 'home'), ('Back', 'Back to previous …"
      ]
     },
     "metadata": {},
     "output_type": "display_data"
    },
    {
     "data": {
      "application/vnd.jupyter.widget-view+json": {
       "model_id": "998e16843773497a816a1cdac560113c",
       "version_major": 2,
       "version_minor": 0
      },
      "text/plain": [
       "Canvas(toolbar=Toolbar(toolitems=[('Home', 'Reset original view', 'home', 'home'), ('Back', 'Back to previous …"
      ]
     },
     "metadata": {},
     "output_type": "display_data"
    },
    {
     "data": {
      "application/vnd.jupyter.widget-view+json": {
       "model_id": "7eb242d1cfcb4edb809741a03b048dc5",
       "version_major": 2,
       "version_minor": 0
      },
      "text/plain": [
       "Canvas(toolbar=Toolbar(toolitems=[('Home', 'Reset original view', 'home', 'home'), ('Back', 'Back to previous …"
      ]
     },
     "metadata": {},
     "output_type": "display_data"
    }
   ],
   "source": [
    "fis = ctrl.ControlSystem(rules)\n",
    "cases =[\n",
    "    {\"Temperature\":t,\"Cloud Cover\":cc}\n",
    "    for t,cc in [[55,21.4],[55,50]]\n",
    "]\n",
    "for inputs in cases:\n",
    "    sim = ctrl.ControlSystemSimulation(fis)\n",
    "    sim.inputs(inputs)\n",
    "    sim.compute()\n",
    "    print(\"speed:\",sim.output['Speed'])\n",
    "    temp.view(sim= sim)    \n",
    "    cover.view(sim= sim)\n",
    "    speed.view(sim= sim)    "
   ]
  }
 ],
 "metadata": {
  "kernelspec": {
   "display_name": "Python 3 (ipykernel)",
   "language": "python",
   "name": "python3"
  },
  "language_info": {
   "codemirror_mode": {
    "name": "ipython",
    "version": 3
   },
   "file_extension": ".py",
   "mimetype": "text/x-python",
   "name": "python",
   "nbconvert_exporter": "python",
   "pygments_lexer": "ipython3",
   "version": "3.9.7"
  }
 },
 "nbformat": 4,
 "nbformat_minor": 5
}
